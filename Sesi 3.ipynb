{
 "cells": [
  {
   "cell_type": "code",
   "execution_count": 1,
   "id": "3b8ceb92",
   "metadata": {},
   "outputs": [],
   "source": [
    "def function_name( paramaters):\n",
    "    \"docstring\"\n",
    "    statement(s)"
   ]
  },
  {
   "cell_type": "code",
   "execution_count": 30,
   "id": "28a4cf36",
   "metadata": {},
   "outputs": [],
   "source": [
    "def my_function(p,l):\n",
    "    \"function untuk menghitung luas\"\n",
    "    print(p*l)\n",
    "\n"
   ]
  },
  {
   "cell_type": "code",
   "execution_count": 31,
   "id": "5bd07e7b",
   "metadata": {},
   "outputs": [
    {
     "name": "stdout",
     "output_type": "stream",
     "text": [
      "8\n"
     ]
    }
   ],
   "source": [
    "my_function(2,4)"
   ]
  },
  {
   "cell_type": "code",
   "execution_count": 33,
   "id": "dbedc063",
   "metadata": {},
   "outputs": [],
   "source": [
    "def printme( str ):\n",
    "    \"This printer a passed string into this function\"\n",
    "    print(str)\n",
    "    return"
   ]
  },
  {
   "cell_type": "code",
   "execution_count": 34,
   "id": "5dc3039f",
   "metadata": {},
   "outputs": [
    {
     "name": "stdout",
     "output_type": "stream",
     "text": [
      "I'm first call to user defined function!\n",
      "Again second call to the same function\n"
     ]
    }
   ],
   "source": [
    "# Function definition is here\n",
    "def printme( str ):\n",
    "    \"This printer passed string into this function\"\n",
    "    print(str)\n",
    "    return\n",
    "\n",
    "#Now you can call printme function\n",
    "printme(\"I'm first call to user defined function!\")\n",
    "printme('Again second call to the same function')"
   ]
  },
  {
   "cell_type": "code",
   "execution_count": 37,
   "id": "492e8444",
   "metadata": {},
   "outputs": [
    {
     "name": "stdout",
     "output_type": "stream",
     "text": [
      "Values inside teh function [10, 20, 30, [1, 2, 3, 4]]\n",
      "Values inside teh function [10, 20, 30, [1, 2, 3, 4]]\n"
     ]
    }
   ],
   "source": [
    "# Function definition is here\n",
    "def changeme( mylist ):\n",
    "    \"This changes a passed list into this function\"\n",
    "    mylist.append([1,2,3,4])\n",
    "    print(\"Values inside teh function\", mylist)\n",
    "    return\n",
    "\n",
    "# Now you can call changeme function\n",
    "mylist = [10,20,30]\n",
    "changeme( mylist )\n",
    "print(\"Values inside teh function\", mylist)\n",
    "    "
   ]
  },
  {
   "cell_type": "code",
   "execution_count": 38,
   "id": "373efeca",
   "metadata": {},
   "outputs": [
    {
     "name": "stdout",
     "output_type": "stream",
     "text": [
      "Values inside the function:  [1, 2, 3, 4]\n",
      "Values inside teh function [10, 20, 30]\n"
     ]
    }
   ],
   "source": [
    "# Function definition is here\n",
    "def changeme( mylist ):\n",
    "    \"This changes a passed list into this function\"\n",
    "    mylist = [1,2,3,4]  #This would assig new reference in my list\n",
    "    print(\"Values inside the function: \",mylist)\n",
    "    return\n",
    "\n",
    "# Now you can call changeme function\n",
    "mylist = [10,20,30]\n",
    "changeme( mylist )\n",
    "print(\"Values inside teh function\", mylist)   "
   ]
  },
  {
   "cell_type": "code",
   "execution_count": 39,
   "id": "808ca4e7",
   "metadata": {},
   "outputs": [
    {
     "ename": "TypeError",
     "evalue": "printme() missing 1 required positional argument: 'str'",
     "output_type": "error",
     "traceback": [
      "\u001b[1;31m---------------------------------------------------------------------------\u001b[0m",
      "\u001b[1;31mTypeError\u001b[0m                                 Traceback (most recent call last)",
      "Input \u001b[1;32mIn [39]\u001b[0m, in \u001b[0;36m<cell line: 8>\u001b[1;34m()\u001b[0m\n\u001b[0;32m      5\u001b[0m     \u001b[38;5;28;01mreturn\u001b[39;00m\n\u001b[0;32m      7\u001b[0m \u001b[38;5;66;03m# Now you can call changeme function\u001b[39;00m\n\u001b[1;32m----> 8\u001b[0m \u001b[43mprintme\u001b[49m\u001b[43m(\u001b[49m\u001b[43m)\u001b[49m\n",
      "\u001b[1;31mTypeError\u001b[0m: printme() missing 1 required positional argument: 'str'"
     ]
    }
   ],
   "source": [
    "# Function definition is here\n",
    "def printme( str ):\n",
    "    \"This printer a passed string into this function\"\n",
    "    print(str)\n",
    "    return\n",
    "\n",
    "# Now you can call printme function\n",
    "printme()"
   ]
  },
  {
   "cell_type": "code",
   "execution_count": 40,
   "id": "c0166cc0",
   "metadata": {},
   "outputs": [
    {
     "name": "stdout",
     "output_type": "stream",
     "text": [
      "Hactive8\n"
     ]
    }
   ],
   "source": [
    "# Function definition is here\n",
    "def printme( str ):\n",
    "    \"This printer a passed string into this function\"\n",
    "    print(str)\n",
    "    return\n",
    "\n",
    "# Now you can call printme function\n",
    "printme(str = \"Hactive8\")"
   ]
  },
  {
   "cell_type": "code",
   "execution_count": 41,
   "id": "0b121412",
   "metadata": {},
   "outputs": [
    {
     "name": "stdout",
     "output_type": "stream",
     "text": [
      "Name a\n",
      "Age 4\n"
     ]
    }
   ],
   "source": [
    "# Function definition is here\n",
    "def printinfo( name,age ):\n",
    "    \"This printer a passed string into this function\"\n",
    "    print(\"Name\", name)\n",
    "    print(\"Age\", age)\n",
    "    return\n",
    "\n",
    "# Now you can call printinfo function\n",
    "printinfo( age=4, name=\"a\")"
   ]
  },
  {
   "cell_type": "code",
   "execution_count": 42,
   "id": "f2c0e397",
   "metadata": {},
   "outputs": [
    {
     "name": "stdout",
     "output_type": "stream",
     "text": [
      "Name Hactive8\n",
      "Age 50\n",
      "Name hactive\n",
      "Age 26\n"
     ]
    }
   ],
   "source": [
    "# Function definition is here\n",
    "def printinfo( name,age = 26 ):\n",
    "    \"This printer a passed string into this function\"\n",
    "    print(\"Name\", name)\n",
    "    print(\"Age\", age)\n",
    "    return\n",
    "\n",
    "# Now you can call printinfo function\n",
    "printinfo( age=50, name=\"Hactive8\" )\n",
    "printinfo( name=\"hactive\" )"
   ]
  },
  {
   "cell_type": "code",
   "execution_count": 56,
   "id": "ae3e8352",
   "metadata": {},
   "outputs": [
    {
     "ename": "SyntaxError",
     "evalue": "invalid syntax (571006559.py, line 1)",
     "output_type": "error",
     "traceback": [
      "\u001b[1;36m  Input \u001b[1;32mIn [56]\u001b[1;36m\u001b[0m\n\u001b[1;33m    def functionname([formal_args,] *var_args_tuple):\u001b[0m\n\u001b[1;37m                     ^\u001b[0m\n\u001b[1;31mSyntaxError\u001b[0m\u001b[1;31m:\u001b[0m invalid syntax\n"
     ]
    }
   ],
   "source": [
    "def functionname([formal_args,] *var_args_tuple):\n",
    "    \"function_docstring\"\n",
    "    function_suite\n",
    "    return [expression]"
   ]
  },
  {
   "cell_type": "code",
   "execution_count": 68,
   "id": "2b0485db",
   "metadata": {},
   "outputs": [
    {
     "name": "stdout",
     "output_type": "stream",
     "text": [
      "Output is: \n",
      "10\n",
      "Output is: \n",
      "70\n",
      "60\n"
     ]
    }
   ],
   "source": [
    "# Function definition is here\n",
    "def printinfo( arg1, *vartuple ):\n",
    "    \"This prints a variable passed arguments\"\n",
    "    print(\"Output is: \")\n",
    "    print(arg1)\n",
    "    for var in vartuple:\n",
    "        print(var)\n",
    "        return;\n",
    "    \n",
    "# Now you can call printinfo function\n",
    "printinfo( 10 )\n",
    "printinfo( 70, 60, 50, \"a\" )"
   ]
  },
  {
   "cell_type": "code",
   "execution_count": 73,
   "id": "687a6374",
   "metadata": {},
   "outputs": [
    {
     "name": "stdout",
     "output_type": "stream",
     "text": [
      "Value of total : 30\n",
      "Value of total : 40\n"
     ]
    }
   ],
   "source": [
    "# Function definition is here\n",
    "sum = lambda arg1, arg2: arg1 + arg2\n",
    "\n",
    "def sum(arg1, arg2):\n",
    "   return arg1 + arg2\n",
    "    \n",
    "# Now you can call sum as function\n",
    "print(\"Value of total :\", sum( 10, 20 ))\n",
    "print(\"Value of total :\", sum( 20, 20 ))"
   ]
  },
  {
   "cell_type": "code",
   "execution_count": 77,
   "id": "9ddfa1eb",
   "metadata": {},
   "outputs": [
    {
     "name": "stdout",
     "output_type": "stream",
     "text": [
      "Inside the function :  30\n",
      "Outside the function :  40\n"
     ]
    }
   ],
   "source": [
    "# Function definition is here\n",
    "def sum(arg1, arg2):\n",
    "    # Add both the parameters and return them.\"\n",
    "    total = arg1 + arg2\n",
    "    total2 = total + arg1\n",
    "    print(\"Inside the function : \", total)\n",
    "    return total2\n",
    "\n",
    "# Now you can call sum function\n",
    "total = sum(10,20)\n",
    "print(\"Outside the function : \", total)"
   ]
  },
  {
   "cell_type": "code",
   "execution_count": 84,
   "id": "52fbec6b",
   "metadata": {},
   "outputs": [],
   "source": [
    "total = 0\n",
    "\n",
    "def sum( arg1, arg2 ):\n",
    "    \n",
    "    total = arg1 + arg2;\n",
    "    print(\"Inside the function local total :\", total)\n",
    "    return total\n",
    "\n",
    "def min():\n",
    "    \n",
    "    sum( 10, 20 );\n",
    "    print(\"Outside ther function global total :\", total)"
   ]
  },
  {
   "cell_type": "code",
   "execution_count": 90,
   "id": "d273be24",
   "metadata": {},
   "outputs": [
    {
     "data": {
      "text/plain": [
       "40"
      ]
     },
     "execution_count": 90,
     "metadata": {},
     "output_type": "execute_result"
    }
   ],
   "source": [
    "jumlahKucing = 20\n",
    "\n",
    "def jumlahHewan():\n",
    "    jumlahAnjing = 30\n",
    "    return jumlahKucing + jumlahAnjing\n",
    "\n",
    "def jumlahKelinci():\n",
    "    return jumlahKucing + jumlahKucing\n",
    "\n",
    "jumlahHewan()\n",
    "jumlahKelinci()"
   ]
  },
  {
   "cell_type": "code",
   "execution_count": null,
   "id": "0b818d1a",
   "metadata": {},
   "outputs": [],
   "source": [
    "# Finish"
   ]
  }
 ],
 "metadata": {
  "kernelspec": {
   "display_name": "Python 3 (ipykernel)",
   "language": "python",
   "name": "python3"
  },
  "language_info": {
   "codemirror_mode": {
    "name": "ipython",
    "version": 3
   },
   "file_extension": ".py",
   "mimetype": "text/x-python",
   "name": "python",
   "nbconvert_exporter": "python",
   "pygments_lexer": "ipython3",
   "version": "3.9.12"
  }
 },
 "nbformat": 4,
 "nbformat_minor": 5
}
